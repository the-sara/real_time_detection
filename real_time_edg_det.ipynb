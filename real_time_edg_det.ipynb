{
 "cells": [
  {
   "cell_type": "code",
   "execution_count": 6,
   "id": "3369d306-e5b1-4a63-97b8-4ff58b1eae30",
   "metadata": {},
   "outputs": [],
   "source": [
    "import cv2\n",
    "import matplotlib.pyplot as plt\n",
    "#import numpy as np"
   ]
  },
  {
   "cell_type": "code",
   "execution_count": 7,
   "id": "f1d6e6ef-bc14-457b-8bc6-c83dcd4f33f2",
   "metadata": {},
   "outputs": [],
   "source": [
    "#edge detection with opencv\n",
    "# reading , grey_scale,noise reduction,algo(canny):\n",
    "def canny(frame):\n",
    "  #reading:\n",
    " # img=cv2.imread(frame)\n",
    "  #grey scaling\n",
    "  img_g=cv2.cvtColor(frame,cv2.COLOR_BGR2GRAY)\n",
    "  #bluring\n",
    "  blured=cv2.GaussianBlur(img_g,(5,5),0)\n",
    "  #algo\n",
    "  edges=cv2.Canny(blured,75,150)\n",
    "  return edges"
   ]
  },
  {
   "cell_type": "code",
   "execution_count": null,
   "id": "f7159329",
   "metadata": {},
   "outputs": [],
   "source": [
    "def real_time_edge_det():\n",
    "  cap=cv2.VideoCapture(0)# just to open the webcam\n",
    "  while True:\n",
    "    did,frame=cap.read()# to read the frame \n",
    "    if not did: break\n",
    "    edges=canny(frame)\n",
    "    cv2.imshow('edges',edges)\n",
    "    if cv2.waitKey(1) & 0xFF ==ord(\"q\"):break\n",
    "  cap.release()\n",
    "  cv2.destroyAllWindows()\n",
    "\n",
    "real_time_edge_det()"
   ]
  },
  {
   "cell_type": "code",
   "execution_count": null,
   "id": "ebf84f41",
   "metadata": {},
   "outputs": [],
   "source": [
    "real_time_edge_det()"
   ]
  }
 ],
 "metadata": {
  "kernelspec": {
   "display_name": "base",
   "language": "python",
   "name": "python3"
  },
  "language_info": {
   "codemirror_mode": {
    "name": "ipython",
    "version": 3
   },
   "file_extension": ".py",
   "mimetype": "text/x-python",
   "name": "python",
   "nbconvert_exporter": "python",
   "pygments_lexer": "ipython3",
   "version": "3.12.7"
  }
 },
 "nbformat": 4,
 "nbformat_minor": 5
}
