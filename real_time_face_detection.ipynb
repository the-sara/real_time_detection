{
 "cells": [
  {
   "cell_type": "code",
   "execution_count": 11,
   "id": "35fb514a",
   "metadata": {},
   "outputs": [],
   "source": [
    "import cv2\n",
    "face_detector=cv2.CascadeClassifier(cv2.data.haarcascades + 'haarcascade_frontalface_default.xml')\n"
   ]
  },
  {
   "cell_type": "code",
   "execution_count": 25,
   "id": "01d62490",
   "metadata": {},
   "outputs": [],
   "source": [
    "def detect(frame):\n",
    "    # we have to convert to gray first \n",
    "    frame_gray=cv2.cvtColor(frame,cv2.COLOR_BGR2GRAY)\n",
    "    rectangle=face_detector.detectMultiScale(frame,scaleFactor=1.1,minNeighbors=5)\n",
    "    for (x,y,w,h) in rectangle:\n",
    "        cv2.rectangle(frame,(x,y),(x+w,y+h),(200,10,100),10)\n",
    "    return frame"
   ]
  },
  {
   "cell_type": "code",
   "execution_count": 26,
   "id": "2b85ac42",
   "metadata": {},
   "outputs": [
    {
     "ename": "KeyboardInterrupt",
     "evalue": "",
     "output_type": "error",
     "traceback": [
      "\u001b[1;31m---------------------------------------------------------------------------\u001b[0m",
      "\u001b[1;31mKeyboardInterrupt\u001b[0m                         Traceback (most recent call last)",
      "Cell \u001b[1;32mIn[26], line 12\u001b[0m\n\u001b[0;32m      9\u001b[0m     cap\u001b[38;5;241m.\u001b[39mrelease()\n\u001b[0;32m     10\u001b[0m     cv2\u001b[38;5;241m.\u001b[39mdestroyAllWindows()\n\u001b[1;32m---> 12\u001b[0m real_time_face_detect()\n",
      "Cell \u001b[1;32mIn[26], line 4\u001b[0m, in \u001b[0;36mreal_time_face_detect\u001b[1;34m()\u001b[0m\n\u001b[0;32m      2\u001b[0m cap\u001b[38;5;241m=\u001b[39mcv2\u001b[38;5;241m.\u001b[39mVideoCapture(\u001b[38;5;241m0\u001b[39m)\n\u001b[0;32m      3\u001b[0m \u001b[38;5;28;01mwhile\u001b[39;00m \u001b[38;5;28;01mTrue\u001b[39;00m:\n\u001b[1;32m----> 4\u001b[0m     did,frame\u001b[38;5;241m=\u001b[39mcap\u001b[38;5;241m.\u001b[39mread()\u001b[38;5;66;03m# to read the frame \u001b[39;00m\n\u001b[0;32m      5\u001b[0m     \u001b[38;5;28;01mif\u001b[39;00m \u001b[38;5;129;01mnot\u001b[39;00m did: \u001b[38;5;28;01mbreak\u001b[39;00m\n\u001b[0;32m      6\u001b[0m     rect\u001b[38;5;241m=\u001b[39mdetect(frame)\n",
      "\u001b[1;31mKeyboardInterrupt\u001b[0m: "
     ]
    }
   ],
   "source": [
    "def real_time_face_detect():\n",
    "    cap=cv2.VideoCapture(0)\n",
    "    while True:\n",
    "        did,frame=cap.read()# to read the frame \n",
    "        if not did: break\n",
    "        rect=detect(frame)\n",
    "        cv2.imshow('faces',rect)\n",
    "        if cv2.waitKey(1) & 0xFF ==ord(\"q\"):break\n",
    "    cap.release()\n",
    "    cv2.destroyAllWindows()\n",
    "\n",
    "real_time_face_detect()\n"
   ]
  }
 ],
 "metadata": {
  "kernelspec": {
   "display_name": "base",
   "language": "python",
   "name": "python3"
  },
  "language_info": {
   "codemirror_mode": {
    "name": "ipython",
    "version": 3
   },
   "file_extension": ".py",
   "mimetype": "text/x-python",
   "name": "python",
   "nbconvert_exporter": "python",
   "pygments_lexer": "ipython3",
   "version": "3.12.7"
  }
 },
 "nbformat": 4,
 "nbformat_minor": 5
}
